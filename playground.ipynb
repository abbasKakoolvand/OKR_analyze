{
 "cells": [
  {
   "cell_type": "code",
   "execution_count": 3,
   "id": "f912aa15",
   "metadata": {},
   "outputs": [],
   "source": [
    "%reset -f\n"
   ]
  },
  {
   "cell_type": "code",
   "execution_count": 4,
   "id": "b7c7a8d1",
   "metadata": {},
   "outputs": [],
   "source": [
    "from utils.excel_reader import load_okrs\n",
    "\n",
    "keyresults =  load_okrs(\"assets/excel/okr.xlsx\")\n",
    "\n",
    "\n",
    "\n",
    "\n"
   ]
  },
  {
   "cell_type": "code",
   "execution_count": 5,
   "id": "11fa95db",
   "metadata": {},
   "outputs": [
    {
     "name": "stdout",
     "output_type": "stream",
     "text": [
      "['پیگیری دریافت تایید کارشناسان حوزه ها برای شناسنامه اهداف سطح CXO', 'تهیه شناسنامه شاخص\\u200cهای سطح CXO توسط هوش مصنوعی', 'پیگیری دریافت تایید کارشناسان حوزه ها برای شناسنامه شاخص\\u200cهای سطح CXO', 'پیگیری ورود عملکرد شاخص های خودکار شده و رفع مشکلات احتمالی', 'آپدیت داشبوردهای مرتبط با شاخص های خودکار شده', 'نهایی سازی شاخص های راهبرد کهکشان', 'تعیین سطح بلوغ شاخص های راهبرد کهکشان', 'ارتقای سطح اتوماسیون شاخص های کهکشان به سطح 5', 'ساخت داشبوردهای مرتبط', 'تهیه سرور در زون مرتبط با دسترسی های مورد نیاز', 'تهیه سخت افزار مورد نیاز', 'تست مدل های زبانی بزرگ متناسب با  نیازمندی یوزکیس\\u200cها و سخت افزار مرتبط', 'راه اندازی مدل(های) زبانی بزرگ', 'تهیه سفر مشتری فرایند برنامه ریزی', 'تهیه لیستی از بخش\\u200cهای سفر مشتری برنامه پیشنهادی که قابلیت استفاده از هوش مصنوعی دارند', 'اولویت بندی و زمانبندی اجرای لیست تهیه شده در نتیجه کلیدی R.3.2', 'امکان سنجی چت با اسناد دارای بخش\\u200cهای متنوع مانند تصویر و نمودار', 'امکان سنجی چت با اسناد ADL و سایر اسناد راهبردی معتبر مانند GSMA، OVUM، TM Forum']\n"
     ]
    }
   ],
   "source": [
    "\n",
    "lists= [okr[1] for _,okr in keyresults]\n",
    "print(lists)    "
   ]
  },
  {
   "cell_type": "code",
   "execution_count": 6,
   "id": "56537b0d",
   "metadata": {},
   "outputs": [
    {
     "data": {
      "text/plain": [
       "'[\\n   {\\n      \"okr\": \"پیگیری دریافت تایید کارشناسان حوزه ها برای شناسنامه اهداف سطح CXO\",\\n      \"type\": \"Follow-up\",\\n      \"scope\": \"Operational\",\\n      \"automation_level\": \"Manual\",\\n      \"dependency\": \"Independent\"\\n   },\\n   {\\n      \"okr\": \"تهیه شناسنامه شاخص\\u200cهای سطح CXO توسط هوش مصنوعی\",\\n      \"type\": \"Outcome\",\\n      \"scope\": \"Strategic\",\\n      \"automation_level\": \"Fully Automated\",\\n      \"dependency\": \"Independent\"\\n   },\\n   {\\n      \"okr\": \"پیگیری دریافت تایید کارشناسان حوزه ها برای شناسنامه شاخص\\u200cهای سطح CXO\",\\n      \"type\": \"Follow-up\",\\n      \"scope\": \"Operational\",\\n      \"automation_level\": \"Manual\",\\n      \"dependency\": \"Independent\"\\n   },\\n   {\\n      \"okr\": \"پیگیری ورود عملکرد شاخص های خودکار شده و رفع مشکلات احتمالی\",\\n      \"type\": \"Follow-up\",\\n      \"scope\": \"Operational\",\\n      \"automation_level\": \"Manual\",\\n      \"dependency\": \"Dependent\",\\n      \"depends_on\": [\\n         \"تهیه شناسنامه شاخص\\u200cهای سطح CXO توسط هوش مصنوعی\"\\n      ]\\n   },\\n   {\\n      \"okr\": \"آپدیت داشبوردهای مرتبط با شاخص های خودکار شده\",\\n      \"type\": \"Follow-up\",\\n      \"scope\": \"Operational\",\\n      \"automation_level\": \"Semi-Automated\",\\n      \"dependency\": \"Dependent\",\\n      \"depends_on\": [\\n         \"تهیه شناسنامه شاخص\\u200cهای سطح CXO توسط هوش مصنوعی\"\\n      ]\\n   },\\n   {\\n      \"okr\": \"نهایی سازی شاخص های راهبرد کهکشان\",\\n      \"type\": \"Outcome\",\\n      \"scope\": \"Strategic\",\\n      \"automation_level\": \"Manual\",\\n      \"dependency\": \"Independent\"\\n   },\\n   {\\n      \"okr\": \"تعیین سطح بلوغ شاخص های راهبرد کهکشان\",\\n      \"type\": \"Outcome\",\\n      \"scope\": \"Strategic\",\\n      \"automation_level\": \"Manual\",\\n      \"dependency\": \"Independent\"\\n   },\\n   {\\n      \"okr\": \"ارتقای سطح اتوماسیون شاخص های کهکشان به سطح 5\",\\n      \"type\": \"Outcome\",\\n      \"scope\": \"Technical\",\\n      \"automation_level\": \"Fully Automated\",\\n      \"dependency\": \"Independent\"\\n   },\\n   {\\n      \"okr\": \"ساخت داشبوردهای مرتبط\",\\n      \"type\": \"Outcome\",\\n      \"scope\": \"Technical\",\\n      \"automation_level\": \"Semi-Automated\",\\n      \"dependency\": \"Independent\"\\n   },\\n   {\\n      \"okr\": \"تهیه سرور در زون مرتبط با دسترسی های مورد نیاز\",\\n      \"type\": \"Setup/Preparation\",\\n      \"scope\": \"Technical\",\\n      \"automation_level\": \"Manual\",\\n      \"dependency\": \"Independent\"\\n   },\\n   {\\n      \"okr\": \"تهیه سخت افزار مورد نیاز\",\\n      \"type\": \"Setup/Preparation\",\\n      \"scope\": \"Technical\",\\n      \"automation_level\": \"Manual\",\\n      \"dependency\": \"Independent\"\\n   },\\n   {\\n      \"okr\": \"تست مدل های زبانی بزرگ متناسب با  نیازمندی یوزکیس\\u200cها و سخت افزار مرتبط\",\\n      \"type\": \"Exploration/Feasibility\",\\n      \"scope\": \"Technical\",\\n      \"automation_level\": \"Manual\",\\n      \"dependency\": \"Independent\"\\n   },\\n   {\\n      \"okr\": \"راه اندازی مدل(های) زبانی بزرگ\",\\n      \"type\": \"Outcome\",\\n      \"scope\": \"Technical\",\\n      \"automation_level\": \"Fully Automated\",\\n      \"dependency\": \"Independent\"\\n   },\\n   {\\n      \"okr\": \"تهیه سفر مشتری فرایند برنامه ریزی\",\\n      \"type\": \"Outcome\",\\n      \"scope\": \"Strategic\",\\n      \"automation_level\": \"Manual\",\\n      \"dependency\": \"Independent\"\\n   },\\n   {\\n      \"okr\": \"تهیه لیستی از بخش\\u200cهای سفر مشتری برنامه پیشنهادی که قابلیت استفاده از هوش مصنوعی دارند\",\\n      \"type\": \"Outcome\",\\n      \"scope\": \"Strategic\",\\n      \"automation_level\": \"Manual\",\\n      \"dependency\": \"Independent\"\\n   },\\n   {\\n      \"okr\": \"اولویت بندی و زمانبندی اجرای لیست تهیه شده در نتیجه کلیدی R.3.2\",\\n      \"type\": \"Follow-up\",\\n      \"scope\": \"Operational\",\\n      \"automation_level\": \"Manual\",\\n      \"dependency\": \"Dependent\",\\n      \"depends_on\": [\\n         \"تهیه لیستی از بخش\\u200cهای سفر مشتری برنامه پیشنهادی که قابلیت استفاده از هوش مصنوعی دارند\"\\n      ]\\n   },\\n   {\\n      \"okr\": \"امکان سنجی چت با اسناد دارای بخش\\u200cهای متنوع مانند تصویر و نمودار\",\\n      \"type\": \"Exploration/Feasibility\",\\n      \"scope\": \"Strategic\",\\n      \"automation_level\": \"Manual\",\\n      \"dependency\": \"Independent\"\\n   },\\n   {\\n      \"okr\": \"امکان سنجی چت با اسناد ADL و سایر اسناد راهبردی معتبر مانند GSMA، OVUM، TM Forum\",\\n      \"type\": \"Exploration/Feasibility\",\\n      \"scope\": \"Strategic\",\\n      \"automation_level\": \"Manual\",\\n      \"dependency\": \"Independent\"\\n   }\\n]'"
      ]
     },
     "execution_count": 6,
     "metadata": {},
     "output_type": "execute_result"
    }
   ],
   "source": [
    "from core.analyzer import OKRClassifier\n",
    "\n",
    "analyzer = OKRClassifier(lists)\n",
    "    \n",
    "analyzer.invoke()"
   ]
  },
  {
   "cell_type": "code",
   "execution_count": null,
   "id": "6b17b7a1",
   "metadata": {},
   "outputs": [],
   "source": []
  }
 ],
 "metadata": {
  "kernelspec": {
   "display_name": ".venv",
   "language": "python",
   "name": "python3"
  },
  "language_info": {
   "codemirror_mode": {
    "name": "ipython",
    "version": 3
   },
   "file_extension": ".py",
   "mimetype": "text/x-python",
   "name": "python",
   "nbconvert_exporter": "python",
   "pygments_lexer": "ipython3",
   "version": "3.11.4"
  }
 },
 "nbformat": 4,
 "nbformat_minor": 5
}
